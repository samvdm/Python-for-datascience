{
 "cells": [
  {
   "cell_type": "markdown",
   "id": "greater-score",
   "metadata": {},
   "source": [
    "# List in Python\n",
    "\n",
    "Estimated time needed: 15 minutes"
   ]
  },
  {
   "cell_type": "markdown",
   "id": "compatible-advantage",
   "metadata": {},
   "source": [
    "## Objectives\n",
    "\n",
    "After completing this lab you will be able to:\n",
    "- Perform list operations in python such as slicing\n",
    "- Modify elements of a list\n",
    "- Apply list methods such as extend, append and count"
   ]
  },
  {
   "cell_type": "markdown",
   "id": "editorial-booth",
   "metadata": {},
   "source": [
    "<h2>Table of Contents</h2>\n",
    "<div class=\"alert alert-block alert-info\" style=\"margin-top: 20px\">\n",
    "    <ul>\n",
    "        <li>\n",
    "            <a href=\"#The-dataset\">The dataset</a>\n",
    "        </li>\n",
    "        <li>\n",
    "            <a href=\"#List-methods-and-functions\">List methods and functions</a>\n",
    "        </li>\n",
    "        <li>\n",
    "            <a href=\"#Quiz-on-list\">Quiz on Lists</a>\n",
    "        </li>\n",
    "    </ul>\n",
    "   \n",
    "</div>\n",
    "\n",
    "<hr>\n"
   ]
  },
  {
   "cell_type": "markdown",
   "id": "known-rebate",
   "metadata": {},
   "source": [
    "<h2 id=\"The-dataset\">The dataset</h2>\n",
    "\n",
    "Imagine you reveive movie recommendations from your friends and compiled all of the recommendations into a table, with specific information about each movie.\n",
    "\n",
    "- **tile** - the title of the movie\n",
    "- **date of release** - the date the movie was released\n",
    "- **genre** - movie genre\n",
    "- **language** - movie language\n",
    "- **director** - director name"
   ]
  },
  {
   "cell_type": "markdown",
   "id": "intellectual-swaziland",
   "metadata": {},
   "source": [
    "<h2 id=\"List-methods-and-functions\">List methods and functions</h2>\n",
    "\n",
    "There are many built-in methods and functions which we can use on lists and other sequences.\n",
    "\n",
    "| Function Method | Description |\n",
    "| --- | --- |\n",
    "| len() | Returns the length of the list |\n",
    "|sum() | Returns the of a list of numbers |\n",
    "|any() | Check if any of the values are true |\n",
    "|all() | Returns the of a list of numbers |\n",
    "| .append() | Adds and element to the end of the list |\n",
    "| .count() | Counts how many times a value appears in a list | \n",
    "| .extend() | Append several values at once to the end |\n",
    "| .index() | Find the index of a value |\n",
    "| .insert() | insert a value at a particular index |\n",
    "| .index() | Find the index of a value |\n",
    "| .pop() | Remove an element by its index and assign it to a variable|\n",
    "| .remove() | Remove an element by its value |\n",
    "\n",
    "You can refer to this this table when working through the below exercises."
   ]
  },
  {
   "cell_type": "markdown",
   "id": "meaning-moore",
   "metadata": {},
   "source": [
    "<h2 id=\"Quiz-on-list\">Quiz on list</h2>\n"
   ]
  },
  {
   "cell_type": "markdown",
   "id": "hawaiian-filename",
   "metadata": {},
   "source": [
    "Create a list <code>movies</code>, with the following elements <code>Avatar</code>, <code>Cinderella</code>, <code>Alice in Wonderland</code> <code>Oliver Twist</code> <code>Sherlock Holmes</code> <code>Chicago</code> <code>Frozen</code> <code>Cleopatra</code>."
   ]
  },
  {
   "cell_type": "code",
   "execution_count": 2,
   "id": "infinite-visitor",
   "metadata": {},
   "outputs": [],
   "source": [
    "# Write your code below and press Shift+Enter to execute\n",
    "\n"
   ]
  },
  {
   "cell_type": "markdown",
   "id": "guilty-favorite",
   "metadata": {},
   "source": [
    "<details><summary>Click here for the solution</summary>\n",
    "\n",
    "```python\n",
    "movies = [\"Avatar\", \"Cinderella\", \"Alice in Wonderland\", \"Oliver Twist\", \"Sherlock Holmes\", \"Chicago\", \"Frozen\", \"Cleopatra\"]\n",
    "\n",
    "```\n",
    "\n",
    "</details>"
   ]
  },
  {
   "cell_type": "markdown",
   "id": "proof-oxide",
   "metadata": {},
   "source": [
    "Assign the value of the <code>4th</code> element of <code>movies</code> to the variable <code>output</code> and print <code>output</code>"
   ]
  },
  {
   "cell_type": "code",
   "execution_count": 5,
   "id": "endless-causing",
   "metadata": {},
   "outputs": [],
   "source": [
    " #Write your code below and press Shift+Enter to execute\n"
   ]
  },
  {
   "cell_type": "markdown",
   "id": "coral-boating",
   "metadata": {},
   "source": [
    "<details><summary>Click here for the solution</summary>\n",
    "\n",
    "```python\n",
    "output = movies[3]\n",
    "print(output)\n",
    "```\n",
    "\n",
    "**ans** = Oliver Twist\n",
    "</details>"
   ]
  },
  {
   "cell_type": "markdown",
   "id": "engaging-order",
   "metadata": {},
   "source": [
    "create a another list <code> fav_movies </code>. This should be a list containing three of your  favourite movies. In the solution I will use three of my favourite movies."
   ]
  },
  {
   "cell_type": "code",
   "execution_count": 7,
   "id": "ignored-walnut",
   "metadata": {},
   "outputs": [],
   "source": [
    " #Write your code below and press Shift+Enter to execute\n",
    "\n"
   ]
  },
  {
   "cell_type": "markdown",
   "id": "fatty-simulation",
   "metadata": {},
   "source": [
    "<details><summary>Click here for the solution</summary>\n",
    "\n",
    "```python\n",
    "fav_ movies = [\"Mean girls\", \"The Lord of the Rings: The Fellowship of the Ring\", \"The Sound of Music\"]\n",
    "\n",
    "```\n",
    "\n",
    "</details>"
   ]
  },
  {
   "cell_type": "markdown",
   "id": "guilty-toolbox",
   "metadata": {},
   "source": [
    "Concatenate the following lists <code>movies</code> and <code>fav_movies</code> and assign it to the variable <code>all_movies</code>:"
   ]
  },
  {
   "cell_type": "code",
   "execution_count": 26,
   "id": "adapted-thinking",
   "metadata": {},
   "outputs": [],
   "source": [
    " #Write your code below and press Shift+Enter to execute\n",
    "    \n",
    "    "
   ]
  },
  {
   "cell_type": "markdown",
   "id": "outer-pipeline",
   "metadata": {},
   "source": [
    "<details><summary>Click here for the solution</summary>\n",
    "\n",
    "```python\n",
    "all_movies = movies + fav_movies\n",
    "\n",
    "```\n",
    "\n",
    "</details>"
   ]
  },
  {
   "cell_type": "markdown",
   "id": "stainless-arrow",
   "metadata": {},
   "source": [
    "Use the method <code>.extend()</code> to add your favourite movies inplace to the list <code>movies</code>"
   ]
  },
  {
   "cell_type": "code",
   "execution_count": 27,
   "id": "chemical-procedure",
   "metadata": {},
   "outputs": [],
   "source": [
    " #Write your code below and press Shift+Enter to execute\n",
    "    \n",
    "    "
   ]
  },
  {
   "cell_type": "markdown",
   "id": "passive-concentration",
   "metadata": {},
   "source": [
    "<details><summary>Click here for the solution</summary>\n",
    "\n",
    "```python\n",
    "movies.extend(fav_movies)\n",
    "\n",
    "```\n",
    "\n",
    "</details>"
   ]
  },
  {
   "cell_type": "markdown",
   "id": "functioning-stephen",
   "metadata": {},
   "source": [
    "print <code>movies</code>"
   ]
  },
  {
   "cell_type": "code",
   "execution_count": 28,
   "id": "tamil-township",
   "metadata": {},
   "outputs": [],
   "source": [
    " #Write your code below and press Shift+Enter to execute\n",
    "    \n",
    "    "
   ]
  },
  {
   "cell_type": "markdown",
   "id": "finite-target",
   "metadata": {},
   "source": [
    "<details><summary>Click here for the solution</summary>\n",
    "\n",
    "```python\n",
    "print(movies)\n",
    "\n",
    "```\n",
    "\n",
    "</details>"
   ]
  },
  {
   "cell_type": "markdown",
   "id": "governmental-arthritis",
   "metadata": {},
   "source": [
    "<hr/>\n",
    "<div class=\"alert alert-success alertsuccess\" style=\"margin-top: 20px\">\n",
    "    [Note:] <code>.expand</code>) changes the original list and we did not have to assign a new variable.\n",
    "</div>\n",
    "<hr/>"
   ]
  },
  {
   "cell_type": "markdown",
   "id": "demographic-february",
   "metadata": {},
   "source": [
    "Check the length of the list <code>movies</code>"
   ]
  },
  {
   "cell_type": "code",
   "execution_count": 29,
   "id": "active-world",
   "metadata": {},
   "outputs": [],
   "source": [
    " #Write your code below and press Shift+Enter to execute\n",
    "    \n",
    "    "
   ]
  },
  {
   "cell_type": "markdown",
   "id": "sixth-product",
   "metadata": {},
   "source": [
    "<details><summary>Click here for the solution</summary>\n",
    "\n",
    "```python\n",
    "len(movies)\n",
    "\n",
    "```\n",
    "\n",
    "</details>"
   ]
  },
  {
   "cell_type": "markdown",
   "id": "legitimate-ranking",
   "metadata": {},
   "source": [
    "Subset the list <code>all_movies</code> to exclude the last three elements and assign to new varialbe <code>my_movies</code>"
   ]
  },
  {
   "cell_type": "code",
   "execution_count": 30,
   "id": "permanent-convention",
   "metadata": {},
   "outputs": [],
   "source": [
    " #Write your code below and press Shift+Enter to execute\n",
    "    \n",
    "    "
   ]
  },
  {
   "cell_type": "markdown",
   "id": "hollow-tomato",
   "metadata": {},
   "source": [
    "<details><summary>Click here for the solution</summary>\n",
    "\n",
    "```python\n",
    "my_movies = all_movies[:8]\n",
    "\n",
    "```\n",
    "\n",
    "</details>"
   ]
  },
  {
   "cell_type": "markdown",
   "id": "quiet-prevention",
   "metadata": {},
   "source": [
    "Clone the list <code>my_movies</code> and assign to new variable <code>new_movies</code>"
   ]
  },
  {
   "cell_type": "code",
   "execution_count": 38,
   "id": "labeled-bruce",
   "metadata": {},
   "outputs": [],
   "source": [
    " #Write your code below and press Shift+Enter to execute\n",
    "    \n",
    "    "
   ]
  },
  {
   "cell_type": "markdown",
   "id": "informal-idaho",
   "metadata": {},
   "source": [
    "<details><summary>Click here for the solution</summary>\n",
    "\n",
    "```python\n",
    "new_movies = my_movies[:]\n",
    "\n",
    "```\n",
    "\n",
    "</details>"
   ]
  },
  {
   "cell_type": "markdown",
   "id": "opposed-sheriff",
   "metadata": {},
   "source": [
    "Append <code>fav_movies</code> to <code>my_movies</code>"
   ]
  },
  {
   "cell_type": "code",
   "execution_count": 53,
   "id": "extensive-knife",
   "metadata": {},
   "outputs": [],
   "source": [
    " #Write your code below and press Shift+Enter to execute\n",
    "\n",
    "    "
   ]
  },
  {
   "cell_type": "markdown",
   "id": "respiratory-program",
   "metadata": {},
   "source": [
    "<details><summary>Click here for the solution</summary>\n",
    "\n",
    "```python\n",
    "my_movies.append(fav_movies)\n",
    "\n",
    "```\n",
    "\n",
    "</details>"
   ]
  },
  {
   "cell_type": "markdown",
   "id": "composite-wrestling",
   "metadata": {},
   "source": [
    "<hr/>\n",
    "<div class=\"alert alert-success alertsuccess\" style=\"margin-top: 20px\">\n",
    "    [Note:] <code>.append</code>) adds a single element to a list. Use len(my_movies0 and you get 9 elements.\n",
    "</div>\n",
    "<hr/>"
   ]
  },
  {
   "cell_type": "code",
   "execution_count": 64,
   "id": "mineral-defensive",
   "metadata": {},
   "outputs": [],
   "source": [
    "#run this code twice\n",
    "all_movies.extend(fav_movies)"
   ]
  },
  {
   "cell_type": "markdown",
   "id": "blank-conspiracy",
   "metadata": {},
   "source": [
    "Count the number of times the movie 'Mean girls' appears in the list <code>all_movies</code> "
   ]
  },
  {
   "cell_type": "code",
   "execution_count": 67,
   "id": "registered-procedure",
   "metadata": {},
   "outputs": [],
   "source": [
    " #Write your code below and press Shift+Enter to execute\n",
    "    \n",
    "    "
   ]
  },
  {
   "cell_type": "markdown",
   "id": "ideal-plaintiff",
   "metadata": {},
   "source": [
    "<details><summary>Click here for the solution</summary>\n",
    "\n",
    "```python\n",
    "all_movies.count('Mean girls')\n",
    "\n",
    "```\n",
    "\n",
    "</details>"
   ]
  },
  {
   "cell_type": "markdown",
   "id": "stunning-vegetable",
   "metadata": {},
   "source": [
    "## Author\n",
    "\n",
    "<a href=\"www.samzee.nry\" target=\"_blank\">Samantha van der Merwe</a>\n",
    "\n",
    "## Change Log\n",
    "\n",
    "| Date (YYYY-MM-DD) | Version | Changed By | Change Description                 |\n",
    "| ----------------- | ------- | ---------- | ---------------------------------- |\n",
    "| 2021-04-01        | 2.0     | Samantha   | created lab|\n",
    "|                   |         |            |                                    |\n",
    "|                   |         |            |                                    |\n"
   ]
  }
 ],
 "metadata": {
  "kernelspec": {
   "display_name": "Python 3",
   "language": "python",
   "name": "python3"
  },
  "language_info": {
   "codemirror_mode": {
    "name": "ipython",
    "version": 3
   },
   "file_extension": ".py",
   "mimetype": "text/x-python",
   "name": "python",
   "nbconvert_exporter": "python",
   "pygments_lexer": "ipython3",
   "version": "3.7.4"
  }
 },
 "nbformat": 4,
 "nbformat_minor": 5
}
